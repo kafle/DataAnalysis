{
 "metadata": {
  "name": "Introductory Examples"
 },
 "nbformat": 3,
 "nbformat_minor": 0,
 "worksheets": [
  {
   "cells": [
    {
     "cell_type": "heading",
     "level": 3,
     "metadata": {},
     "source": [
      "Govt. data from bitly"
     ]
    },
    {
     "cell_type": "code",
     "collapsed": false,
     "input": [
      "path = 'bookdata/ch02/usagov_bitly_data2012-03-16-1331923249.txt'\n",
      "open(path).readline()"
     ],
     "language": "python",
     "metadata": {},
     "outputs": [
      {
       "output_type": "pyout",
       "prompt_number": 4,
       "text": [
        "'{ \"a\": \"Mozilla\\\\/5.0 (Windows NT 6.1; WOW64) AppleWebKit\\\\/535.11 (KHTML, like Gecko) Chrome\\\\/17.0.963.78 Safari\\\\/535.11\", \"c\": \"US\", \"nk\": 1, \"tz\": \"America\\\\/New_York\", \"gr\": \"MA\", \"g\": \"A6qOVH\", \"h\": \"wfLQtf\", \"l\": \"orofrog\", \"al\": \"en-US,en;q=0.8\", \"hh\": \"1.usa.gov\", \"r\": \"http:\\\\/\\\\/www.facebook.com\\\\/l\\\\/7AQEFzjSi\\\\/1.usa.gov\\\\/wfLQtf\", \"u\": \"http:\\\\/\\\\/www.ncbi.nlm.nih.gov\\\\/pubmed\\\\/22415991\", \"t\": 1331923247, \"hc\": 1331822918, \"cy\": \"Danvers\", \"ll\": [ 42.576698, -70.954903 ] }\\n'"
       ]
      }
     ],
     "prompt_number": 4
    },
    {
     "cell_type": "code",
     "collapsed": false,
     "input": [
      "import json\n",
      "records = [json.loads(line) for line in open(path)]"
     ],
     "language": "python",
     "metadata": {},
     "outputs": [],
     "prompt_number": 6
    },
    {
     "cell_type": "code",
     "collapsed": false,
     "input": [
      "records[0]['tz']"
     ],
     "language": "python",
     "metadata": {},
     "outputs": [
      {
       "output_type": "pyout",
       "prompt_number": 8,
       "text": [
        "u'America/New_York'"
       ]
      }
     ],
     "prompt_number": 8
    },
    {
     "cell_type": "code",
     "collapsed": false,
     "input": [
      "time_zones = [rec['tz'] for rec in records if 'tz' in rec]\n",
      "print len(time_zones)\n",
      "print time_zones[0]"
     ],
     "language": "python",
     "metadata": {},
     "outputs": [
      {
       "output_type": "stream",
       "stream": "stdout",
       "text": [
        "3440\n",
        "America/New_York\n"
       ]
      }
     ],
     "prompt_number": 26
    },
    {
     "cell_type": "code",
     "collapsed": false,
     "input": [
      "def get_counts1(seq): #count with stdlib dict\n",
      "    counts={}\n",
      "    for x in seq:\n",
      "        if x in counts:\n",
      "            counts[x] += 1\n",
      "        else:\n",
      "            counts[x] = 1\n",
      "    return counts\n",
      "\n",
      "print get_counts1(time_zones)['']"
     ],
     "language": "python",
     "metadata": {},
     "outputs": [
      {
       "output_type": "stream",
       "stream": "stdout",
       "text": [
        "521\n"
       ]
      }
     ],
     "prompt_number": 23
    },
    {
     "cell_type": "code",
     "collapsed": false,
     "input": [
      "from collections import defaultdict\n",
      "def get_counts(seq): # with stdlib collections\n",
      "    counts = defaultdict(int) # init all to 0\n",
      "    for x in seq:\n",
      "        counts[x] += 1\n",
      "    return counts\n",
      "\n",
      "counts = get_counts(time_zones)\n",
      "print counts['']"
     ],
     "language": "python",
     "metadata": {},
     "outputs": [
      {
       "output_type": "stream",
       "stream": "stdout",
       "text": [
        "521\n"
       ]
      }
     ],
     "prompt_number": 33
    },
    {
     "cell_type": "code",
     "collapsed": false,
     "input": [
      "def top_counts(count_dict, n=10):\n",
      "    kv_pairs = [(count, tz) for tz,count in count_dict.items()]\n",
      "    kv_pairs.sort()\n",
      "    return kv_pairs[-n:]\n",
      "\n",
      "print top_counts(counts)"
     ],
     "language": "python",
     "metadata": {},
     "outputs": [
      {
       "output_type": "stream",
       "stream": "stdout",
       "text": [
        "[(33, u'America/Sao_Paulo'), (35, u'Europe/Madrid'), (36, u'Pacific/Honolulu'), (37, u'Asia/Tokyo'), (74, u'Europe/London'), (191, u'America/Denver'), (382, u'America/Los_Angeles'), (400, u'America/Chicago'), (521, u''), (1251, u'America/New_York')]\n"
       ]
      }
     ],
     "prompt_number": 34
    },
    {
     "cell_type": "code",
     "collapsed": false,
     "input": [
      "# Counting with stdlib collections\n",
      "from collections import Counter\n",
      "counts = Counter(time_zones)\n",
      "counts.most_common(10)"
     ],
     "language": "python",
     "metadata": {},
     "outputs": [
      {
       "output_type": "pyout",
       "prompt_number": 35,
       "text": [
        "[(u'America/New_York', 1251),\n",
        " (u'', 521),\n",
        " (u'America/Chicago', 400),\n",
        " (u'America/Los_Angeles', 382),\n",
        " (u'America/Denver', 191),\n",
        " (u'Europe/London', 74),\n",
        " (u'Asia/Tokyo', 37),\n",
        " (u'Pacific/Honolulu', 36),\n",
        " (u'Europe/Madrid', 35),\n",
        " (u'America/Sao_Paulo', 33)]"
       ]
      }
     ],
     "prompt_number": 35
    },
    {
     "cell_type": "heading",
     "level": 3,
     "metadata": {},
     "source": [
      "Now, with pandas"
     ]
    },
    {
     "cell_type": "code",
     "collapsed": false,
     "input": [
      "from pandas import DataFrame, Series\n",
      "import pandas as pd"
     ],
     "language": "python",
     "metadata": {},
     "outputs": [],
     "prompt_number": 36
    },
    {
     "cell_type": "code",
     "collapsed": false,
     "input": [
      "frame = DataFrame(records)"
     ],
     "language": "python",
     "metadata": {},
     "outputs": [],
     "prompt_number": 37
    },
    {
     "cell_type": "code",
     "collapsed": false,
     "input": [
      "print frame"
     ],
     "language": "python",
     "metadata": {},
     "outputs": [
      {
       "output_type": "stream",
       "stream": "stdout",
       "text": [
        "<class 'pandas.core.frame.DataFrame'>\n",
        "Int64Index: 3560 entries, 0 to 3559\n",
        "Data columns:\n",
        "_heartbeat_    120  non-null values\n",
        "a              3440  non-null values\n",
        "al             3094  non-null values\n",
        "c              2919  non-null values\n",
        "cy             2919  non-null values\n",
        "g              3440  non-null values\n",
        "gr             2919  non-null values\n",
        "h              3440  non-null values\n",
        "hc             3440  non-null values\n",
        "hh             3440  non-null values\n",
        "kw             93  non-null values\n",
        "l              3440  non-null values\n",
        "ll             2919  non-null values\n",
        "nk             3440  non-null values\n",
        "r              3440  non-null values\n",
        "t              3440  non-null values\n",
        "tz             3440  non-null values\n",
        "u              3440  non-null values\n",
        "dtypes: float64(4), object(14)\n"
       ]
      }
     ],
     "prompt_number": 44
    },
    {
     "cell_type": "code",
     "collapsed": false,
     "input": [
      "print frame['tz'][:3]"
     ],
     "language": "python",
     "metadata": {},
     "outputs": [
      {
       "output_type": "stream",
       "stream": "stdout",
       "text": [
        "0    America/New_York\n",
        "1      America/Denver\n",
        "2    America/New_York\n",
        "Name: tz\n"
       ]
      }
     ],
     "prompt_number": 46
    },
    {
     "cell_type": "code",
     "collapsed": false,
     "input": [
      "tz_counts = frame['tz'].value_counts() # method call on series object returned by \n",
      "# slicing dataframe"
     ],
     "language": "python",
     "metadata": {},
     "outputs": [],
     "prompt_number": 47
    },
    {
     "cell_type": "code",
     "collapsed": false,
     "input": [
      "print tz_counts[:10]"
     ],
     "language": "python",
     "metadata": {},
     "outputs": [
      {
       "output_type": "stream",
       "stream": "stdout",
       "text": [
        "America/New_York       1251\n",
        "                        521\n",
        "America/Chicago         400\n",
        "America/Los_Angeles     382\n",
        "America/Denver          191\n",
        "Europe/London            74\n",
        "Asia/Tokyo               37\n",
        "Pacific/Honolulu         36\n",
        "Europe/Madrid            35\n",
        "America/Sao_Paulo        33\n"
       ]
      }
     ],
     "prompt_number": 48
    },
    {
     "cell_type": "code",
     "collapsed": false,
     "input": [
      "# Munging \n",
      "# put missing for NA values i.e. entries in records with no 'tz'\n",
      "clean_tz = frame['tz'].fillna('Missing')\n",
      "# and Unknown for records with '' in 'tz' fields\n",
      "clean_tz[clean_tz == ''] = 'Unknown'\n",
      "tz_counts = clean_tz.value_counts()\n",
      "print tz_counts[:10] # turns out quite a lot of missing fields"
     ],
     "language": "python",
     "metadata": {},
     "outputs": [
      {
       "output_type": "stream",
       "stream": "stdout",
       "text": [
        "America/New_York       1251\n",
        "Unknown                 521\n",
        "America/Chicago         400\n",
        "America/Los_Angeles     382\n",
        "America/Denver          191\n",
        "Missing                 120\n",
        "Europe/London            74\n",
        "Asia/Tokyo               37\n",
        "Pacific/Honolulu         36\n",
        "Europe/Madrid            35\n"
       ]
      }
     ],
     "prompt_number": 49
    },
    {
     "cell_type": "code",
     "collapsed": false,
     "input": [
      "# bar chart plot\n",
      "tz_counts.sort()\n",
      "tz_counts[-10:].plot(kind='barh', rot=0)"
     ],
     "language": "python",
     "metadata": {},
     "outputs": [
      {
       "output_type": "pyout",
       "prompt_number": 61,
       "text": [
        "<matplotlib.axes.AxesSubplot at 0x49fbc50>"
       ]
      },
      {
       "output_type": "display_data",
       "png": "[encoded data removed]"
      }
     ],
     "prompt_number": 61
    },
    {
     "cell_type": "code",
     "collapsed": false,
     "input": [
      "# Now some analysis of agents i.e. 'a' fields\n",
      "for i in xrange(0,4):\n",
      "    print frame['a'][i]\n",
      "# first token ~ corresponds to browser"
     ],
     "language": "python",
     "metadata": {},
     "outputs": [
      {
       "output_type": "stream",
       "stream": "stdout",
       "text": [
        "Mozilla/5.0 (Windows NT 6.1; WOW64) AppleWebKit/535.11 (KHTML, like Gecko) Chrome/17.0.963.78 Safari/535.11\n",
        "GoogleMaps/RochesterNY\n",
        "Mozilla/4.0 (compatible; MSIE 8.0; Windows NT 6.1; WOW64; Trident/4.0; SLCC2; .NET CLR 2.0.50727; .NET CLR 3.5.30729; .NET CLR 3.0.30729; Media Center PC 6.0; .NET4.0C; .NET4.0E; InfoPath.3)\n",
        "Mozilla/5.0 (Macintosh; Intel Mac OS X 10_6_8) AppleWebKit/534.52.7 (KHTML, like Gecko) Version/5.1.2 Safari/534.52.7\n"
       ]
      }
     ],
     "prompt_number": 64
    },
    {
     "cell_type": "code",
     "collapsed": false,
     "input": [
      "for i in xrange(0,10):\n",
      "    print frame['a'][i].split()[0]"
     ],
     "language": "python",
     "metadata": {},
     "outputs": [
      {
       "output_type": "stream",
       "stream": "stdout",
       "text": [
        "Mozilla/5.0\n",
        "GoogleMaps/RochesterNY\n",
        "Mozilla/4.0\n",
        "Mozilla/5.0\n",
        "Mozilla/5.0\n",
        "Mozilla/5.0\n",
        "Mozilla/5.0\n",
        "Mozilla/5.0\n",
        "Opera/9.80\n",
        "Mozilla/5.0\n"
       ]
      }
     ],
     "prompt_number": 72
    },
    {
     "cell_type": "code",
     "collapsed": false,
     "input": [
      "results = Series([x.split()[0] for x in frame.a.dropna()])\n",
      "# split the 'a' field data, select the first elems\n",
      "# dropna drops NA's but what is a?\n",
      "# looks like frame.tz returns timezone series etc\n",
      "# i.e. frame.x for 'z' is a field in frame\n",
      "print frame\n",
      "print\n",
      "print frame.a\n",
      "print\n",
      "print frame.tz"
     ],
     "language": "python",
     "metadata": {},
     "outputs": [
      {
       "output_type": "stream",
       "stream": "stdout",
       "text": [
        "<class 'pandas.core.frame.DataFrame'>\n",
        "Int64Index: 3560 entries, 0 to 3559\n",
        "Data columns:\n",
        "_heartbeat_    120  non-null values\n",
        "a              3440  non-null values\n",
        "al             3094  non-null values\n",
        "c              2919  non-null values\n",
        "cy             2919  non-null values\n",
        "g              3440  non-null values\n",
        "gr             2919  non-null values\n",
        "h              3440  non-null values\n",
        "hc             3440  non-null values\n",
        "hh             3440  non-null values\n",
        "kw             93  non-null values\n",
        "l              3440  non-null values\n",
        "ll             2919  non-null values\n",
        "nk             3440  non-null values\n",
        "r              3440  non-null values\n",
        "t              3440  non-null values\n",
        "tz             3440  non-null values\n",
        "u              3440  non-null values\n",
        "dtypes: float64(4), object(14)\n",
        "\n",
        "0     Mozilla/5.0 (Windows NT 6.1; WOW64) AppleWebKi...\n",
        "1                                GoogleMaps/RochesterNY\n",
        "2     Mozilla/4.0 (compatible; MSIE 8.0; Windows NT ...\n",
        "3     Mozilla/5.0 (Macintosh; Intel Mac OS X 10_6_8)...\n",
        "4     Mozilla/5.0 (Windows NT 6.1; WOW64) AppleWebKi...\n",
        "5     Mozilla/5.0 (Windows NT 6.1; WOW64) AppleWebKi...\n",
        "6     Mozilla/5.0 (Windows NT 5.1) AppleWebKit/535.1...\n",
        "7     Mozilla/5.0 (Windows NT 6.1; rv:2.0.1) Gecko/2...\n",
        "8     Opera/9.80 (X11; Linux zbov; U; en) Presto/2.1...\n",
        "9     Mozilla/5.0 (Windows NT 6.1; WOW64) AppleWebKi...\n",
        "10    Mozilla/5.0 (Windows NT 6.1; WOW64; rv:10.0.2)...\n",
        "11    Mozilla/5.0 (Macintosh; U; Intel Mac OS X 10.4...\n",
        "12    Mozilla/5.0 (Windows NT 6.1; WOW64; rv:10.0.2)...\n",
        "13                                                  NaN\n",
        "14    Mozilla/5.0 (Windows; U; Windows NT 6.1; en-US...\n",
        "...\n",
        "3545    Mozilla/5.0 (Windows NT 6.1; WOW64; rv:10.0.2)...\n",
        "3546    Mozilla/5.0 (iPhone; CPU iPhone OS 5_1 like Ma...\n",
        "3547    Mozilla/5.0 (Macintosh; Intel Mac OS X 10_6_8)...\n",
        "3548    Mozilla/5.0 (iPhone; CPU iPhone OS 5_1 like Ma...\n",
        "3549    Mozilla/5.0 (Windows NT 6.1; WOW64) AppleWebKi...\n",
        "3550    Mozilla/4.0 (compatible; MSIE 8.0; Windows NT ...\n",
        "3551    Mozilla/5.0 (Windows NT 6.1; WOW64) AppleWebKi...\n",
        "3552    Mozilla/5.0 (Windows; U; Windows NT 6.1; en-US...\n",
        "3553    Mozilla/4.0 (compatible; MSIE 7.0; Windows NT ...\n",
        "3554    Mozilla/4.0 (compatible; MSIE 7.0; Windows NT ...\n",
        "3555    Mozilla/4.0 (compatible; MSIE 9.0; Windows NT ...\n",
        "3556    Mozilla/5.0 (Windows NT 5.1) AppleWebKit/535.1...\n",
        "3557                               GoogleMaps/RochesterNY\n",
        "3558                                       GoogleProducer\n",
        "3559    Mozilla/4.0 (compatible; MSIE 8.0; Windows NT ...\n",
        "Name: a, Length: 3560\n",
        "\n",
        "0        America/New_York\n",
        "1          America/Denver\n",
        "2        America/New_York\n",
        "3       America/Sao_Paulo\n",
        "4        America/New_York\n",
        "5        America/New_York\n",
        "6           Europe/Warsaw\n",
        "7                        \n",
        "8                        \n",
        "9                        \n",
        "10    America/Los_Angeles\n",
        "11       America/New_York\n",
        "12       America/New_York\n",
        "13                    NaN\n",
        "14       America/New_York\n",
        "...\n",
        "3545        America/Chicago\n",
        "3546    America/Los_Angeles\n",
        "3547       America/New_York\n",
        "3548        America/Chicago\n",
        "3549       Europe/Stockholm\n",
        "3550       America/New_York\n",
        "3551                       \n",
        "3552        America/Chicago\n",
        "3553       America/New_York\n",
        "3554       America/New_York\n",
        "3555       America/New_York\n",
        "3556        America/Chicago\n",
        "3557         America/Denver\n",
        "3558    America/Los_Angeles\n",
        "3559       America/New_York\n",
        "Name: tz, Length: 3560\n"
       ]
      }
     ],
     "prompt_number": 78
    },
    {
     "cell_type": "code",
     "collapsed": false,
     "input": [
      "print results[:3]\n",
      "print results.value_counts()[:10] # no chrome cause 2012 data???"
     ],
     "language": "python",
     "metadata": {},
     "outputs": [
      {
       "output_type": "stream",
       "stream": "stdout",
       "text": [
        "0               Mozilla/5.0\n",
        "1    GoogleMaps/RochesterNY\n",
        "2               Mozilla/4.0\n",
        "Mozilla/5.0                 2594\n",
        "Mozilla/4.0                  601\n",
        "GoogleMaps/RochesterNY       121\n",
        "Opera/9.80                    34\n",
        "TEST_INTERNET_AGENT           24\n",
        "GoogleProducer                21\n",
        "Mozilla/6.0                    5\n",
        "BlackBerry8520/5.0.0.681       4\n",
        "Dalvik/1.4.0                   3\n",
        "BlackBerry8520/5.0.0.592       3\n"
       ]
      }
     ],
     "prompt_number": 80
    },
    {
     "cell_type": "code",
     "collapsed": false,
     "input": [
      "# Task: decompose top time zones into Windows vs non-Windows\n",
      "# first exclude missing agent data\n",
      "cframe = frame[frame.a.notnull()]"
     ],
     "language": "python",
     "metadata": {},
     "outputs": [],
     "prompt_number": 81
    },
    {
     "cell_type": "code",
     "collapsed": false,
     "input": [
      "operating_sys = np.where(cframe['a'].str.contains('Windows'), 'Windows','Not Windows')\n",
      "# i.e. if str has Windows\n",
      "print frame.a[:5]\n",
      "print operating_sys[:5]"
     ],
     "language": "python",
     "metadata": {},
     "outputs": [
      {
       "output_type": "stream",
       "stream": "stdout",
       "text": [
        "0    Mozilla/5.0 (Windows NT 6.1; WOW64) AppleWebKi...\n",
        "1                               GoogleMaps/RochesterNY\n",
        "2    Mozilla/4.0 (compatible; MSIE 8.0; Windows NT ...\n",
        "3    Mozilla/5.0 (Macintosh; Intel Mac OS X 10_6_8)...\n",
        "4    Mozilla/5.0 (Windows NT 6.1; WOW64) AppleWebKi...\n",
        "Name: a\n",
        "0        Windows\n",
        "1    Not Windows\n",
        "2        Windows\n",
        "3    Not Windows\n",
        "4        Windows\n",
        "Name: a\n"
       ]
      }
     ],
     "prompt_number": 84
    },
    {
     "cell_type": "code",
     "collapsed": false,
     "input": [
      "# now group win/not-win data by tz\n",
      "by_tz_os = cframe.groupby(['tz',operating_sys])\n",
      "print type(by_tz_os)"
     ],
     "language": "python",
     "metadata": {},
     "outputs": [
      {
       "output_type": "stream",
       "stream": "stdout",
       "text": [
        "<class 'pandas.core.groupby.DataFrameGroupBy'>\n"
       ]
      }
     ],
     "prompt_number": 88
    },
    {
     "cell_type": "code",
     "collapsed": false,
     "input": [
      "print by_tz_os.size() # gives group counts 'analogous to value_counts()'"
     ],
     "language": "python",
     "metadata": {},
     "outputs": [
      {
       "output_type": "stream",
       "stream": "stdout",
       "text": [
        "tz                              a          \n",
        "                                Not Windows    245\n",
        "                                Windows        276\n",
        "Africa/Cairo                    Windows          3\n",
        "Africa/Casablanca               Windows          1\n",
        "Africa/Ceuta                    Windows          2\n",
        "Africa/Johannesburg             Windows          1\n",
        "Africa/Lusaka                   Windows          1\n",
        "America/Anchorage               Not Windows      4\n",
        "                                Windows          1\n",
        "America/Argentina/Buenos_Aires  Not Windows      1\n",
        "America/Argentina/Cordoba       Windows          1\n",
        "America/Argentina/Mendoza       Windows          1\n",
        "America/Bogota                  Not Windows      1\n",
        "                                Windows          2\n",
        "America/Caracas                 Windows          1\n",
        "...\n",
        "Europe/Skopje     Windows         1\n",
        "Europe/Sofia      Windows         1\n",
        "Europe/Stockholm  Not Windows     2\n",
        "                  Windows        12\n",
        "Europe/Uzhgorod   Windows         1\n",
        "Europe/Vienna     Not Windows     3\n",
        "                  Windows         3\n",
        "Europe/Vilnius    Windows         2\n",
        "Europe/Volgograd  Windows         1\n",
        "Europe/Warsaw     Not Windows     1\n",
        "                  Windows        15\n",
        "Europe/Zurich     Not Windows     4\n",
        "Pacific/Auckland  Not Windows     3\n",
        "                  Windows         8\n",
        "Pacific/Honolulu  Windows        36\n",
        "Length: 149\n"
       ]
      }
     ],
     "prompt_number": 91
    },
    {
     "cell_type": "code",
     "collapsed": false,
     "input": [
      "print by_tz_os.size().unstack() # turn it into table"
     ],
     "language": "python",
     "metadata": {},
     "outputs": [
      {
       "output_type": "stream",
       "stream": "stdout",
       "text": [
        "a                               Not Windows  Windows\n",
        "tz                                                  \n",
        "                                        245      276\n",
        "Africa/Cairo                            NaN        3\n",
        "Africa/Casablanca                       NaN        1\n",
        "Africa/Ceuta                            NaN        2\n",
        "Africa/Johannesburg                     NaN        1\n",
        "Africa/Lusaka                           NaN        1\n",
        "America/Anchorage                         4        1\n",
        "America/Argentina/Buenos_Aires            1      NaN\n",
        "America/Argentina/Cordoba               NaN        1\n",
        "America/Argentina/Mendoza               NaN        1\n",
        "America/Bogota                            1        2\n",
        "America/Caracas                         NaN        1\n",
        "America/Chicago                         115      285\n",
        "America/Chihuahua                         1        1\n",
        "America/Costa_Rica                      NaN        1\n",
        "America/Denver                          132       59\n",
        "America/Edmonton                          2        4\n",
        "America/Guayaquil                         2      NaN\n",
        "America/Halifax                           1        3\n",
        "America/Indianapolis                      8       12\n",
        "America/La_Paz                          NaN        1\n",
        "America/Lima                            NaN        1\n",
        "America/Los_Angeles                     130      252\n",
        "America/Managua                         NaN        3\n",
        "America/Mazatlan                          1      NaN\n",
        "America/Mexico_City                       7        8\n",
        "America/Monterrey                         1      NaN\n",
        "America/Montevideo                      NaN        1\n",
        "America/Montreal                          3        6\n",
        "America/New_York                        339      912\n",
        "America/Phoenix                           3       17\n",
        "America/Puerto_Rico                       9        1\n",
        "America/Rainy_River                      10       15\n",
        "America/Recife                          NaN        2\n",
        "America/Santo_Domingo                     1      NaN\n",
        "America/Sao_Paulo                        13       20\n",
        "America/St_Kitts                          1      NaN\n",
        "America/Tegucigalpa                     NaN        1\n",
        "America/Vancouver                         6        6\n",
        "America/Winnipeg                          3        1\n",
        "Asia/Amman                              NaN        2\n",
        "Asia/Bangkok                            NaN        6\n",
        "Asia/Beirut                               1        3\n",
        "Asia/Calcutta                             2        7\n",
        "Asia/Dubai                                2        2\n",
        "Asia/Harbin                             NaN        3\n",
        "Asia/Hong_Kong                            4        6\n",
        "Asia/Istanbul                           NaN        9\n",
        "Asia/Jakarta                              2        1\n",
        "Asia/Jerusalem                            2        1\n",
        "Asia/Karachi                            NaN        3\n",
        "Asia/Kuala_Lumpur                         1        2\n",
        "Asia/Kuching                            NaN        1\n",
        "Asia/Manila                             NaN        1\n",
        "Asia/Nicosia                            NaN        1\n",
        "Asia/Novosibirsk                        NaN        1\n",
        "Asia/Pontianak                            1      NaN\n",
        "Asia/Riyadh                             NaN        1\n",
        "Asia/Seoul                                4        1\n",
        "Asia/Tokyo                                2       35\n",
        "Asia/Yekaterinburg                      NaN        1\n",
        "Australia/NSW                             5        1\n",
        "Australia/Queensland                    NaN        1\n",
        "Chile/Continental                         5        1\n",
        "Europe/Amsterdam                         12       10\n",
        "Europe/Athens                             3        3\n",
        "Europe/Belgrade                         NaN        2\n",
        "Europe/Berlin                             9       19\n",
        "Europe/Bratislava                         1        2\n",
        "Europe/Brussels                           1        3\n",
        "Europe/Bucharest                          1        3\n",
        "Europe/Budapest                         NaN        5\n",
        "Europe/Copenhagen                         2        3\n",
        "Europe/Dublin                             1        2\n",
        "Europe/Helsinki                           2        8\n",
        "Europe/Lisbon                             1        7\n",
        "Europe/Ljubljana                        NaN        1\n",
        "Europe/London                            43       31\n",
        "Europe/Madrid                            16       19\n",
        "Europe/Malta                            NaN        2\n",
        "Europe/Moscow                             1        9\n",
        "Europe/Oslo                               2        8\n",
        "Europe/Paris                              4       10\n",
        "Europe/Prague                             3        7\n",
        "Europe/Riga                               1        1\n",
        "Europe/Rome                               8       19\n",
        "Europe/Skopje                           NaN        1\n",
        "Europe/Sofia                            NaN        1\n",
        "Europe/Stockholm                          2       12\n",
        "Europe/Uzhgorod                         NaN        1\n",
        "Europe/Vienna                             3        3\n",
        "Europe/Vilnius                          NaN        2\n",
        "Europe/Volgograd                        NaN        1\n",
        "Europe/Warsaw                             1       15\n",
        "Europe/Zurich                             4      NaN\n",
        "Pacific/Auckland                          3        8\n",
        "Pacific/Honolulu                        NaN       36\n"
       ]
      }
     ],
     "prompt_number": 95
    },
    {
     "cell_type": "code",
     "collapsed": false,
     "input": [
      "agg_counts = by_tz_os.size().unstack().fillna(0)\n",
      "print agg_counts[:10]\n",
      "print agg_counts[-10:]"
     ],
     "language": "python",
     "metadata": {},
     "outputs": [
      {
       "output_type": "stream",
       "stream": "stdout",
       "text": [
        "a                               Not Windows  Windows\n",
        "tz                                                  \n",
        "                                        245      276\n",
        "Africa/Cairo                              0        3\n",
        "Africa/Casablanca                         0        1\n",
        "Africa/Ceuta                              0        2\n",
        "Africa/Johannesburg                       0        1\n",
        "Africa/Lusaka                             0        1\n",
        "America/Anchorage                         4        1\n",
        "America/Argentina/Buenos_Aires            1        0\n",
        "America/Argentina/Cordoba                 0        1\n",
        "America/Argentina/Mendoza                 0        1\n",
        "a                 Not Windows  Windows\n",
        "tz                                    \n",
        "Europe/Sofia                0        1\n",
        "Europe/Stockholm            2       12\n",
        "Europe/Uzhgorod             0        1\n",
        "Europe/Vienna               3        3\n",
        "Europe/Vilnius              0        2\n",
        "Europe/Volgograd            0        1\n",
        "Europe/Warsaw               1       15\n",
        "Europe/Zurich               4        0\n",
        "Pacific/Auckland            3        8\n",
        "Pacific/Honolulu            0       36\n"
       ]
      }
     ],
     "prompt_number": 100
    },
    {
     "cell_type": "code",
     "collapsed": false,
     "input": [
      "indexer = agg_counts.sum(1).argsort() # indirect indexer from row counts\n",
      "# sorts in ascending ordercount_subsetindexer\n",
      "print indexer[:10]"
     ],
     "language": "python",
     "metadata": {},
     "outputs": [
      {
       "output_type": "stream",
       "stream": "stdout",
       "text": [
        "tz\n",
        "                                  24\n",
        "Africa/Cairo                      20\n",
        "Africa/Casablanca                 21\n",
        "Africa/Ceuta                      92\n",
        "Africa/Johannesburg               87\n",
        "Africa/Lusaka                     53\n",
        "America/Anchorage                 54\n",
        "America/Argentina/Buenos_Aires    57\n",
        "America/Argentina/Cordoba         26\n",
        "America/Argentina/Mendoza         55\n"
       ]
      }
     ],
     "prompt_number": 101
    },
    {
     "cell_type": "code",
     "collapsed": false,
     "input": [
      "count_subset = agg_counts.take(indexer)[-10:] # takes rows in order specified by indexer and slide last 10 rows\n",
      "print count_subset"
     ],
     "language": "python",
     "metadata": {},
     "outputs": [
      {
       "output_type": "stream",
       "stream": "stdout",
       "text": [
        "a                    Not Windows  Windows\n",
        "tz                                       \n",
        "America/Sao_Paulo             13       20\n",
        "Europe/Madrid                 16       19\n",
        "Pacific/Honolulu               0       36\n",
        "Asia/Tokyo                     2       35\n",
        "Europe/London                 43       31\n",
        "America/Denver               132       59\n",
        "America/Los_Angeles          130      252\n",
        "America/Chicago              115      285\n",
        "                             245      276\n",
        "America/New_York             339      912\n"
       ]
      }
     ],
     "prompt_number": 112
    },
    {
     "cell_type": "code",
     "collapsed": false,
     "input": [
      "count_subset.plot(kind='barh', stacked = True) "
     ],
     "language": "python",
     "metadata": {},
     "outputs": [
      {
       "output_type": "pyout",
       "prompt_number": 113,
       "text": [
        "<matplotlib.axes.AxesSubplot at 0x4c76510>"
       ]
      },
      {
       "output_type": "display_data",
       "png": "[encoded data removed]"
      }
     ],
     "prompt_number": 113
    },
    {
     "cell_type": "code",
     "collapsed": false,
     "input": [
      "# normalized\n",
      "norm_subset = count_subset.div(count_subset.sum(1), axis=0)\n",
      "norm_subset.plot(kind='barh',stacked=True)"
     ],
     "language": "python",
     "metadata": {},
     "outputs": [
      {
       "output_type": "pyout",
       "prompt_number": 114,
       "text": [
        "<matplotlib.axes.AxesSubplot at 0x4eaf650>"
       ]
      },
      {
       "output_type": "display_data",
       "png": "[encoded data removed]"
      }
     ],
     "prompt_number": 114
    },
    {
     "cell_type": "heading",
     "level": 3,
     "metadata": {},
     "source": [
      "Movie Lens 1M Data Set"
     ]
    },
    {
     "cell_type": "code",
     "collapsed": false,
     "input": [
      "mpath = 'bookdata/ch02/movielens/'\n",
      "unames = ['user_id', 'gender', 'age', 'occupation', 'zip']\n",
      "rnames = ['user_id', 'movie_id', 'rating', 'timestamp']\n",
      "mnames = ['movie_id', 'title', 'genres']"
     ],
     "language": "python",
     "metadata": {},
     "outputs": [],
     "prompt_number": 115
    },
    {
     "cell_type": "code",
     "collapsed": false,
     "input": [
      "users = pd.read_table(mpath+'users.dat', sep='::', header=None, names=unames)\n",
      "ratings = pd.read_table(mpath+'ratings.dat', sep='::', header=None, names=rnames)\n",
      "movies = pd.read_table(mpath+'movies.dat', sep='::', header=None, names=mnames)"
     ],
     "language": "python",
     "metadata": {},
     "outputs": [],
     "prompt_number": 117
    },
    {
     "cell_type": "code",
     "collapsed": false,
     "input": [
      "print users[:5]\n",
      "print ratings[:5]\n",
      "print movies[:5]\n",
      "# encodings for age, occupation are in the README in mpath"
     ],
     "language": "python",
     "metadata": {},
     "outputs": [
      {
       "output_type": "stream",
       "stream": "stdout",
       "text": [
        "   user_id gender  age  occupation    zip\n",
        "0        1      F    1          10  48067\n",
        "1        2      M   56          16  70072\n",
        "2        3      M   25          15  55117\n",
        "3        4      M   45           7  02460\n",
        "4        5      M   25          20  55455\n",
        "   user_id  movie_id  rating  timestamp\n",
        "0        1      1193       5  978300760\n",
        "1        1       661       3  978302109\n",
        "2        1       914       3  978301968\n",
        "3        1      3408       4  978300275\n",
        "4        1      2355       5  978824291\n",
        "   movie_id                               title                        genres\n",
        "0         1                    Toy Story (1995)   Animation|Children's|Comedy\n",
        "1         2                      Jumanji (1995)  Adventure|Children's|Fantasy\n",
        "2         3             Grumpier Old Men (1995)                Comedy|Romance\n",
        "3         4            Waiting to Exhale (1995)                  Comedy|Drama\n",
        "4         5  Father of the Bride Part II (1995)                        Comedy\n"
       ]
      }
     ],
     "prompt_number": 119
    },
    {
     "cell_type": "code",
     "collapsed": false,
     "input": [
      "# merging 3 tables into 1\n",
      "# pd uses overlapping field names to merge\n",
      "data = pd.merge(pd.merge(ratings, users), movies)\n",
      "data"
     ],
     "language": "python",
     "metadata": {},
     "outputs": [
      {
       "output_type": "pyout",
       "prompt_number": 121,
       "text": [
        "<class 'pandas.core.frame.DataFrame'>\n",
        "Int64Index: 1000209 entries, 0 to 1000208\n",
        "Data columns:\n",
        "user_id       1000209  non-null values\n",
        "movie_id      1000209  non-null values\n",
        "rating        1000209  non-null values\n",
        "timestamp     1000209  non-null values\n",
        "gender        1000209  non-null values\n",
        "age           1000209  non-null values\n",
        "occupation    1000209  non-null values\n",
        "zip           1000209  non-null values\n",
        "title         1000209  non-null values\n",
        "genres        1000209  non-null values\n",
        "dtypes: int64(6), object(4)"
       ]
      }
     ],
     "prompt_number": 121
    },
    {
     "cell_type": "code",
     "collapsed": false,
     "input": [
      "data.ix[1] # why is .ix necessary?"
     ],
     "language": "python",
     "metadata": {},
     "outputs": [
      {
       "output_type": "pyout",
       "prompt_number": 132,
       "text": [
        "user_id                                            2\n",
        "movie_id                                        1193\n",
        "rating                                             5\n",
        "timestamp                                  978298413\n",
        "gender                                             M\n",
        "age                                               56\n",
        "occupation                                        16\n",
        "zip                                            70072\n",
        "title         One Flew Over the Cuckoo's Nest (1975)\n",
        "genres                                         Drama\n",
        "Name: 1"
       ]
      }
     ],
     "prompt_number": 132
    },
    {
     "cell_type": "code",
     "collapsed": false,
     "input": [
      "# mean ratings by gender\n",
      "mean_ratings = data.pivot_table('rating', rows='title', cols='gender', aggfunc = 'mean')\n",
      "mean_ratings[:5]\n",
      "# returns a DataFrame w/ mean ratings by gender w/ title on rows and gender on cols"
     ],
     "language": "python",
     "metadata": {},
     "outputs": [
      {
       "html": [
        "<div style=\"max-height:1000px;max-width:1500px;overflow:auto;\">\n",
        "<table border=\"1\" class=\"dataframe\">\n",
        "  <thead>\n",
        "    <tr style=\"text-align: right;\">\n",
        "      <th>gender</th>\n",
        "      <th>F</th>\n",
        "      <th>M</th>\n",
        "    </tr>\n",
        "    <tr>\n",
        "      <th>title</th>\n",
        "      <th></th>\n",
        "      <th></th>\n",
        "    </tr>\n",
        "  </thead>\n",
        "  <tbody>\n",
        "    <tr>\n",
        "      <th>$1,000,000 Duck (1971)</th>\n",
        "      <td> 3.375000</td>\n",
        "      <td> 2.761905</td>\n",
        "    </tr>\n",
        "    <tr>\n",
        "      <th>'Night Mother (1986)</th>\n",
        "      <td> 3.388889</td>\n",
        "      <td> 3.352941</td>\n",
        "    </tr>\n",
        "    <tr>\n",
        "      <th>'Til There Was You (1997)</th>\n",
        "      <td> 2.675676</td>\n",
        "      <td> 2.733333</td>\n",
        "    </tr>\n",
        "    <tr>\n",
        "      <th>'burbs, The (1989)</th>\n",
        "      <td> 2.793478</td>\n",
        "      <td> 2.962085</td>\n",
        "    </tr>\n",
        "    <tr>\n",
        "      <th>...And Justice for All (1979)</th>\n",
        "      <td> 3.828571</td>\n",
        "      <td> 3.689024</td>\n",
        "    </tr>\n",
        "  </tbody>\n",
        "</table>\n",
        "</div>"
       ],
       "output_type": "pyout",
       "prompt_number": 146,
       "text": [
        "gender                                F         M\n",
        "title                                            \n",
        "$1,000,000 Duck (1971)         3.375000  2.761905\n",
        "'Night Mother (1986)           3.388889  3.352941\n",
        "'Til There Was You (1997)      2.675676  2.733333\n",
        "'burbs, The (1989)             2.793478  2.962085\n",
        "...And Justice for All (1979)  3.828571  3.689024"
       ]
      }
     ],
     "prompt_number": 146
    },
    {
     "cell_type": "code",
     "collapsed": false,
     "input": [
      "# filter only movies w/ at least 250 ratings\n",
      "ratings_by_title = data.groupby('title').size()\n",
      "ratings_by_title[:10]"
     ],
     "language": "python",
     "metadata": {},
     "outputs": [
      {
       "output_type": "pyout",
       "prompt_number": 147,
       "text": [
        "title\n",
        "$1,000,000 Duck (1971)                37\n",
        "'Night Mother (1986)                  70\n",
        "'Til There Was You (1997)             52\n",
        "'burbs, The (1989)                   303\n",
        "...And Justice for All (1979)        199\n",
        "1-900 (1994)                           2\n",
        "10 Things I Hate About You (1999)    700\n",
        "101 Dalmatians (1961)                565\n",
        "101 Dalmatians (1996)                364\n",
        "12 Angry Men (1957)                  616"
       ]
      }
     ],
     "prompt_number": 147
    },
    {
     "cell_type": "code",
     "collapsed": false,
     "input": [
      "active_titles = ratings_by_title[ratings_by_title >= 250]\n",
      "active_titles"
     ],
     "language": "python",
     "metadata": {},
     "outputs": [
      {
       "output_type": "pyout",
       "prompt_number": 148,
       "text": [
        "title\n",
        "'burbs, The (1989)                      303\n",
        "10 Things I Hate About You (1999)       700\n",
        "101 Dalmatians (1961)                   565\n",
        "101 Dalmatians (1996)                   364\n",
        "12 Angry Men (1957)                     616\n",
        "13th Warrior, The (1999)                750\n",
        "2 Days in the Valley (1996)             286\n",
        "20,000 Leagues Under the Sea (1954)     575\n",
        "2001: A Space Odyssey (1968)           1716\n",
        "2010 (1984)                             470\n",
        "28 Days (2000)                          505\n",
        "39 Steps, The (1935)                    253\n",
        "54 (1998)                               259\n",
        "7th Voyage of Sinbad, The (1958)        258\n",
        "8MM (1999)                              272\n",
        "...\n",
        "Working Girl (1988)                       514\n",
        "World Is Not Enough, The (1999)           862\n",
        "Wrong Trousers, The (1993)                882\n",
        "Wyatt Earp (1994)                         270\n",
        "X-Files: Fight the Future, The (1998)     996\n",
        "X-Men (2000)                             1511\n",
        "Year of Living Dangerously (1982)         391\n",
        "Yellow Submarine (1968)                   399\n",
        "You've Got Mail (1998)                    838\n",
        "Young Frankenstein (1974)                1193\n",
        "Young Guns (1988)                         562\n",
        "Young Guns II (1990)                      369\n",
        "Young Sherlock Holmes (1985)              379\n",
        "Zero Effect (1998)                        301\n",
        "eXistenZ (1999)                           410\n",
        "Length: 1216"
       ]
      }
     ],
     "prompt_number": 148
    },
    {
     "cell_type": "code",
     "collapsed": false,
     "input": [
      "# use this to select from the mean ratings dataframe\n",
      "mean_ratings = mean_ratings.ix[active_titles]\n",
      "mean_ratings"
     ],
     "language": "python",
     "metadata": {},
     "outputs": [
      {
       "output_type": "pyout",
       "prompt_number": 149,
       "text": [
        "<class 'pandas.core.frame.DataFrame'>\n",
        "Index: 1216 entries, Batman Returns (1992) to Black Cauldron, The (1985)\n",
        "Data columns:\n",
        "F    1129  non-null values\n",
        "M    1208  non-null values\n",
        "dtypes: float64(2)"
       ]
      }
     ],
     "prompt_number": 149
    },
    {
     "cell_type": "code",
     "collapsed": false,
     "input": [
      "top_female_ratings = mean_ratings.sort_index(by='F', ascending=False)\n",
      "print top_female_ratings[:10]\n",
      "top_male_ratings = mean_ratings.sort_index(by='M', ascending = False)\n",
      "print top_male_ratings[:10] # maybe shouldve filtered NA? or is this some error?"
     ],
     "language": "python",
     "metadata": {},
     "outputs": [
      {
       "output_type": "stream",
       "stream": "stdout",
       "text": [
        "gender                                          F         M\n",
        "title                                                      \n",
        "Big Trees, The (1952)                         NaN  3.250000\n",
        "Back Stage (2000)                             NaN  3.000000\n",
        "Best of the Best 3: No Turning Back (1995)    NaN  1.647059\n",
        "Black Sunday (La Maschera Del Demonio) (1960) NaN  2.250000\n",
        "Big Trees, The (1952)                         NaN  3.250000\n",
        "Callej\ufffdn de los milagros, El (1995)           NaN  4.500000\n",
        "Beloved/Friend (Amigo/Amado) (1999)           NaN  4.000000\n",
        "Criminal Lovers (Les Amants Criminels) (1999) NaN  2.333333\n",
        "Foolish (1999)                                NaN  3.000000\n",
        "Born to Win (1971)                            NaN  2.500000\n",
        "gender                                              F   M\n",
        "title                                                    \n",
        "Cheetah (1989)                                      1 NaN\n",
        "Chain of Fools (2000)                               3 NaN\n",
        "Condition Red (1995)                                4 NaN\n",
        "Silence of the Palace, The (Saimt el Qusur) (1994)  1 NaN\n",
        "Frank and Ollie (1995)                              4 NaN\n",
        "Frank and Ollie (1995)                              4 NaN\n",
        "Closer You Get, The (2000)                          4 NaN\n",
        "Bittersweet Motel (2000)                            5 NaN\n",
        "Gate of Heavenly Peace, The (1995)                  5   5\n",
        "Bells, The (1926)                                   4   5\n"
       ]
      }
     ],
     "prompt_number": 153
    },
    {
     "cell_type": "code",
     "collapsed": false,
     "input": [
      "# rating disagreements\n",
      "\n",
      "mean_ratings['diff'] = mean_ratings['M']-mean_ratings['F']\n",
      "sorted_by_diff = mean_ratings.sort_index(by='diff')\n",
      "sorted_by_diff[:15] # hmm multiple entries for same titles!"
     ],
     "language": "python",
     "metadata": {},
     "outputs": [
      {
       "html": [
        "<div style=\"max-height:1000px;max-width:1500px;overflow:auto;\">\n",
        "<table border=\"1\" class=\"dataframe\">\n",
        "  <thead>\n",
        "    <tr style=\"text-align: right;\">\n",
        "      <th>gender</th>\n",
        "      <th>F</th>\n",
        "      <th>M</th>\n",
        "      <th>diff</th>\n",
        "    </tr>\n",
        "    <tr>\n",
        "      <th>title</th>\n",
        "      <th></th>\n",
        "      <th></th>\n",
        "      <th></th>\n",
        "    </tr>\n",
        "  </thead>\n",
        "  <tbody>\n",
        "    <tr>\n",
        "      <th>Country Life (1994)</th>\n",
        "      <td> 5.000000</td>\n",
        "      <td> 2.000000</td>\n",
        "      <td>-3.000000</td>\n",
        "    </tr>\n",
        "    <tr>\n",
        "      <th>Babyfever (1994)</th>\n",
        "      <td> 3.666667</td>\n",
        "      <td> 1.000000</td>\n",
        "      <td>-2.666667</td>\n",
        "    </tr>\n",
        "    <tr>\n",
        "      <th>Babyfever (1994)</th>\n",
        "      <td> 3.666667</td>\n",
        "      <td> 1.000000</td>\n",
        "      <td>-2.666667</td>\n",
        "    </tr>\n",
        "    <tr>\n",
        "      <th>Babyfever (1994)</th>\n",
        "      <td> 3.666667</td>\n",
        "      <td> 1.000000</td>\n",
        "      <td>-2.666667</td>\n",
        "    </tr>\n",
        "    <tr>\n",
        "      <th>Babyfever (1994)</th>\n",
        "      <td> 3.666667</td>\n",
        "      <td> 1.000000</td>\n",
        "      <td>-2.666667</td>\n",
        "    </tr>\n",
        "    <tr>\n",
        "      <th>Cobra (1925)</th>\n",
        "      <td> 4.000000</td>\n",
        "      <td> 1.500000</td>\n",
        "      <td>-2.500000</td>\n",
        "    </tr>\n",
        "    <tr>\n",
        "      <th>Coming Apart (1969)</th>\n",
        "      <td> 4.000000</td>\n",
        "      <td> 2.000000</td>\n",
        "      <td>-2.000000</td>\n",
        "    </tr>\n",
        "    <tr>\n",
        "      <th>Crude Oasis, The (1995)</th>\n",
        "      <td> 3.000000</td>\n",
        "      <td> 1.000000</td>\n",
        "      <td>-2.000000</td>\n",
        "    </tr>\n",
        "    <tr>\n",
        "      <th>Belly (1998)</th>\n",
        "      <td> 5.000000</td>\n",
        "      <td> 3.000000</td>\n",
        "      <td>-2.000000</td>\n",
        "    </tr>\n",
        "    <tr>\n",
        "      <th>Coming Apart (1969)</th>\n",
        "      <td> 4.000000</td>\n",
        "      <td> 2.000000</td>\n",
        "      <td>-2.000000</td>\n",
        "    </tr>\n",
        "    <tr>\n",
        "      <th>Belly (1998)</th>\n",
        "      <td> 5.000000</td>\n",
        "      <td> 3.000000</td>\n",
        "      <td>-2.000000</td>\n",
        "    </tr>\n",
        "    <tr>\n",
        "      <th>Coming Apart (1969)</th>\n",
        "      <td> 4.000000</td>\n",
        "      <td> 2.000000</td>\n",
        "      <td>-2.000000</td>\n",
        "    </tr>\n",
        "    <tr>\n",
        "      <th>Belly (1998)</th>\n",
        "      <td> 5.000000</td>\n",
        "      <td> 3.000000</td>\n",
        "      <td>-2.000000</td>\n",
        "    </tr>\n",
        "    <tr>\n",
        "      <th>Battling Butler (1926)</th>\n",
        "      <td> 5.000000</td>\n",
        "      <td> 3.222222</td>\n",
        "      <td>-1.777778</td>\n",
        "    </tr>\n",
        "    <tr>\n",
        "      <th>Ballad of Narayama, The (Narayama Bushiko) (1958)</th>\n",
        "      <td> 5.000000</td>\n",
        "      <td> 3.428571</td>\n",
        "      <td>-1.571429</td>\n",
        "    </tr>\n",
        "  </tbody>\n",
        "</table>\n",
        "</div>"
       ],
       "output_type": "pyout",
       "prompt_number": 155,
       "text": [
        "gender                                                    F         M      diff\n",
        "title                                                                          \n",
        "Country Life (1994)                                5.000000  2.000000 -3.000000\n",
        "Babyfever (1994)                                   3.666667  1.000000 -2.666667\n",
        "Babyfever (1994)                                   3.666667  1.000000 -2.666667\n",
        "Babyfever (1994)                                   3.666667  1.000000 -2.666667\n",
        "Babyfever (1994)                                   3.666667  1.000000 -2.666667\n",
        "Cobra (1925)                                       4.000000  1.500000 -2.500000\n",
        "Coming Apart (1969)                                4.000000  2.000000 -2.000000\n",
        "Crude Oasis, The (1995)                            3.000000  1.000000 -2.000000\n",
        "Belly (1998)                                       5.000000  3.000000 -2.000000\n",
        "Coming Apart (1969)                                4.000000  2.000000 -2.000000\n",
        "Belly (1998)                                       5.000000  3.000000 -2.000000\n",
        "Coming Apart (1969)                                4.000000  2.000000 -2.000000\n",
        "Belly (1998)                                       5.000000  3.000000 -2.000000\n",
        "Battling Butler (1926)                             5.000000  3.222222 -1.777778\n",
        "Ballad of Narayama, The (Narayama Bushiko) (1958)  5.000000  3.428571 -1.571429"
       ]
      }
     ],
     "prompt_number": 155
    },
    {
     "cell_type": "code",
     "collapsed": false,
     "input": [
      "# 'reverse order of rows, take first 15 rows'\n",
      "# movies M liked, but F didn't\n",
      "sorted_by_diff[::-1][:15]"
     ],
     "language": "python",
     "metadata": {},
     "outputs": [
      {
       "html": [
        "<div style=\"max-height:1000px;max-width:1500px;overflow:auto;\">\n",
        "<table border=\"1\" class=\"dataframe\">\n",
        "  <thead>\n",
        "    <tr style=\"text-align: right;\">\n",
        "      <th>gender</th>\n",
        "      <th>F</th>\n",
        "      <th>M</th>\n",
        "      <th>diff</th>\n",
        "    </tr>\n",
        "    <tr>\n",
        "      <th>title</th>\n",
        "      <th></th>\n",
        "      <th></th>\n",
        "      <th></th>\n",
        "    </tr>\n",
        "  </thead>\n",
        "  <tbody>\n",
        "    <tr>\n",
        "      <th>Silence of the Palace, The (Saimt el Qusur) (1994)</th>\n",
        "      <td>  1</td>\n",
        "      <td>      NaN</td>\n",
        "      <td>NaN</td>\n",
        "    </tr>\n",
        "    <tr>\n",
        "      <th>Black Sunday (La Maschera Del Demonio) (1960)</th>\n",
        "      <td>NaN</td>\n",
        "      <td> 2.250000</td>\n",
        "      <td>NaN</td>\n",
        "    </tr>\n",
        "    <tr>\n",
        "      <th>Better Living (1998)</th>\n",
        "      <td>NaN</td>\n",
        "      <td> 2.500000</td>\n",
        "      <td>NaN</td>\n",
        "    </tr>\n",
        "    <tr>\n",
        "      <th>Bewegte Mann, Der (1994)</th>\n",
        "      <td>NaN</td>\n",
        "      <td> 3.888889</td>\n",
        "      <td>NaN</td>\n",
        "    </tr>\n",
        "    <tr>\n",
        "      <th>Beefcake (1999)</th>\n",
        "      <td>NaN</td>\n",
        "      <td> 2.750000</td>\n",
        "      <td>NaN</td>\n",
        "    </tr>\n",
        "    <tr>\n",
        "      <th>Cheetah (1989)</th>\n",
        "      <td>  1</td>\n",
        "      <td>      NaN</td>\n",
        "      <td>NaN</td>\n",
        "    </tr>\n",
        "    <tr>\n",
        "      <th>Foolish (1999)</th>\n",
        "      <td>NaN</td>\n",
        "      <td> 3.000000</td>\n",
        "      <td>NaN</td>\n",
        "    </tr>\n",
        "    <tr>\n",
        "      <th>Broken Vessels (1998)</th>\n",
        "      <td>NaN</td>\n",
        "      <td> 3.000000</td>\n",
        "      <td>NaN</td>\n",
        "    </tr>\n",
        "    <tr>\n",
        "      <th>Beloved/Friend (Amigo/Amado) (1999)</th>\n",
        "      <td>NaN</td>\n",
        "      <td> 4.000000</td>\n",
        "      <td>NaN</td>\n",
        "    </tr>\n",
        "    <tr>\n",
        "      <th>Condition Red (1995)</th>\n",
        "      <td>  4</td>\n",
        "      <td>      NaN</td>\n",
        "      <td>NaN</td>\n",
        "    </tr>\n",
        "    <tr>\n",
        "      <th>Bat Whispers, The (1930)</th>\n",
        "      <td>NaN</td>\n",
        "      <td> 2.000000</td>\n",
        "      <td>NaN</td>\n",
        "    </tr>\n",
        "    <tr>\n",
        "      <th>Get Over It (1996)</th>\n",
        "      <td>NaN</td>\n",
        "      <td> 1.000000</td>\n",
        "      <td>NaN</td>\n",
        "    </tr>\n",
        "    <tr>\n",
        "      <th>Black Sunday (La Maschera Del Demonio) (1960)</th>\n",
        "      <td>NaN</td>\n",
        "      <td> 2.250000</td>\n",
        "      <td>NaN</td>\n",
        "    </tr>\n",
        "    <tr>\n",
        "      <th>Beloved/Friend (Amigo/Amado) (1999)</th>\n",
        "      <td>NaN</td>\n",
        "      <td> 4.000000</td>\n",
        "      <td>NaN</td>\n",
        "    </tr>\n",
        "    <tr>\n",
        "      <th>Blood on the Sun (1945)</th>\n",
        "      <td>NaN</td>\n",
        "      <td> 3.500000</td>\n",
        "      <td>NaN</td>\n",
        "    </tr>\n",
        "  </tbody>\n",
        "</table>\n",
        "</div>"
       ],
       "output_type": "pyout",
       "prompt_number": 156,
       "text": [
        "gender                                               F         M  diff\n",
        "title                                                                 \n",
        "Silence of the Palace, The (Saimt el Qusur) (1994)   1       NaN   NaN\n",
        "Black Sunday (La Maschera Del Demonio) (1960)      NaN  2.250000   NaN\n",
        "Better Living (1998)                               NaN  2.500000   NaN\n",
        "Bewegte Mann, Der (1994)                           NaN  3.888889   NaN\n",
        "Beefcake (1999)                                    NaN  2.750000   NaN\n",
        "Cheetah (1989)                                       1       NaN   NaN\n",
        "Foolish (1999)                                     NaN  3.000000   NaN\n",
        "Broken Vessels (1998)                              NaN  3.000000   NaN\n",
        "Beloved/Friend (Amigo/Amado) (1999)                NaN  4.000000   NaN\n",
        "Condition Red (1995)                                 4       NaN   NaN\n",
        "Bat Whispers, The (1930)                           NaN  2.000000   NaN\n",
        "Get Over It (1996)                                 NaN  1.000000   NaN\n",
        "Black Sunday (La Maschera Del Demonio) (1960)      NaN  2.250000   NaN\n",
        "Beloved/Friend (Amigo/Amado) (1999)                NaN  4.000000   NaN\n",
        "Blood on the Sun (1945)                            NaN  3.500000   NaN"
       ]
      }
     ],
     "prompt_number": 156
    },
    {
     "cell_type": "code",
     "collapsed": false,
     "input": [
      "# std dev by title\n",
      "rating_std_by_title = data.groupby('title')['rating'].std()\n",
      "# filer to active titles\n",
      "rating_std_by_title = rating_std_by_title.ix[active_titles]\n",
      "# descending order\n",
      "rating_std_by_title.order(ascending=False)[:10]"
     ],
     "language": "python",
     "metadata": {},
     "outputs": [
      {
       "output_type": "pyout",
       "prompt_number": 158,
       "text": [
        "title\n",
        "Criminal Lovers (Les Amants Criminels) (1999)               2.309401\n",
        "Criminal Lovers (Les Amants Criminels) (1999)               2.309401\n",
        "Better Living (1998)                                        2.121320\n",
        "Paralyzing Fear: The Story of Polio in America, A (1998)    2.121320\n",
        "Better Living (1998)                                        2.121320\n",
        "Black Sunday (La Maschera Del Demonio) (1960)               1.892969\n",
        "Black Sunday (La Maschera Del Demonio) (1960)               1.892969\n",
        "Black Sunday (La Maschera Del Demonio) (1960)               1.892969\n",
        "Black Sunday (La Maschera Del Demonio) (1960)               1.892969\n",
        "Ballad of Narayama, The (Narayama Bushiko) (1958)           1.767767\n",
        "Name: rating"
       ]
      }
     ],
     "prompt_number": 158
    },
    {
     "cell_type": "heading",
     "level": 3,
     "metadata": {},
     "source": [
      "US Baby Names 1880-2010"
     ]
    },
    {
     "cell_type": "code",
     "collapsed": false,
     "input": [
      "# filenames are of form yob<year>.txt\n",
      "npath = 'bookdata/ch02/names/yob'"
     ],
     "language": "python",
     "metadata": {},
     "outputs": [],
     "prompt_number": 160
    },
    {
     "cell_type": "code",
     "collapsed": false,
     "input": [
      "y1880 = open(npath+'1880.txt')"
     ],
     "language": "python",
     "metadata": {},
     "outputs": [],
     "prompt_number": 161
    },
    {
     "cell_type": "code",
     "collapsed": false,
     "input": [
      "y1880"
     ],
     "language": "python",
     "metadata": {},
     "outputs": [
      {
       "output_type": "pyout",
       "prompt_number": 162,
       "text": [
        "<open file 'bookdata/ch02/names/yob1880.txt', mode 'r' at 0x53a3c00>"
       ]
      }
     ],
     "prompt_number": 162
    },
    {
     "cell_type": "code",
     "collapsed": false,
     "input": [],
     "language": "python",
     "metadata": {},
     "outputs": []
    }
   ],
   "metadata": {}
  }
 ]
}