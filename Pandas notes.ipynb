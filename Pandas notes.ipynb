{
 "metadata": {
  "name": "Pandas notes"
 },
 "nbformat": 3,
 "nbformat_minor": 0,
 "worksheets": [
  {
   "cells": [
    {
     "cell_type": "heading",
     "level": 1,
     "metadata": {},
     "source": [
      "pandas: High Level Data Analysis"
     ]
    },
    {
     "cell_type": "heading",
     "level": 5,
     "metadata": {},
     "source": [
      "Imports"
     ]
    },
    {
     "cell_type": "code",
     "collapsed": false,
     "input": [
      "from pandas import Series, DataFrame\n",
      "import pandas as pd"
     ],
     "language": "python",
     "metadata": {},
     "outputs": [],
     "prompt_number": 1
    },
    {
     "cell_type": "heading",
     "level": 3,
     "metadata": {},
     "source": [
      "Data Structures"
     ]
    },
    {
     "cell_type": "heading",
     "level": 4,
     "metadata": {},
     "source": [
      "Series"
     ]
    },
    {
     "cell_type": "code",
     "collapsed": false,
     "input": [
      "obj = Series([4,7,-5,3])\n",
      "print obj"
     ],
     "language": "python",
     "metadata": {},
     "outputs": [
      {
       "output_type": "stream",
       "stream": "stdout",
       "text": [
        "0    4\n",
        "1    7\n",
        "2   -5\n",
        "3    3\n"
       ]
      }
     ],
     "prompt_number": 3
    },
    {
     "cell_type": "code",
     "collapsed": false,
     "input": [
      "print obj.values\n",
      "print obj.index"
     ],
     "language": "python",
     "metadata": {},
     "outputs": [
      {
       "output_type": "stream",
       "stream": "stdout",
       "text": [
        "[ 4  7 -5  3]\n",
        "Int64Index([0, 1, 2, 3], dtype=int64)\n"
       ]
      }
     ],
     "prompt_number": 4
    },
    {
     "cell_type": "code",
     "collapsed": false,
     "input": [
      "obj2 = Series([4,7,-5,3],index=['d','b','a','c'])\n",
      "print obj2\n",
      "print obj2.index"
     ],
     "language": "python",
     "metadata": {},
     "outputs": [
      {
       "output_type": "stream",
       "stream": "stdout",
       "text": [
        "d    4\n",
        "b    7\n",
        "a   -5\n",
        "c    3\n",
        "Index([d, b, a, c], dtype=object)\n"
       ]
      }
     ],
     "prompt_number": 6
    },
    {
     "cell_type": "code",
     "collapsed": false,
     "input": [
      "print obj2['a']\n",
      "print obj2\n",
      "obj2['d']=6\n",
      "print\n",
      "print obj2[['c','a','d']]"
     ],
     "language": "python",
     "metadata": {},
     "outputs": [
      {
       "output_type": "stream",
       "stream": "stdout",
       "text": [
        "-5\n",
        "d    6\n",
        "b    7\n",
        "a   -5\n",
        "c    3\n",
        "\n",
        "c    3\n",
        "a   -5\n",
        "d    6\n"
       ]
      }
     ],
     "prompt_number": 11
    },
    {
     "cell_type": "code",
     "collapsed": false,
     "input": [
      "print obj2\n",
      "print\n",
      "print obj2[obj2>0]\n",
      "print\n",
      "print obj2*2\n",
      "print\n",
      "print np.exp(obj2)"
     ],
     "language": "python",
     "metadata": {},
     "outputs": [
      {
       "output_type": "stream",
       "stream": "stdout",
       "text": [
        "d    6\n",
        "b    7\n",
        "a   -5\n",
        "c    3\n",
        "\n",
        "d    6\n",
        "b    7\n",
        "c    3\n",
        "\n",
        "d    12\n",
        "b    14\n",
        "a   -10\n",
        "c     6\n",
        "\n",
        "d     403.428793\n",
        "b    1096.633158\n",
        "a       0.006738\n",
        "c      20.085537\n"
       ]
      }
     ],
     "prompt_number": 12
    },
    {
     "cell_type": "code",
     "collapsed": false,
     "input": [
      "# works like dicts (but fixed length, ordered)\n",
      "print 'b' in obj2\n",
      "print 'e' in obj2"
     ],
     "language": "python",
     "metadata": {},
     "outputs": [
      {
       "output_type": "stream",
       "stream": "stdout",
       "text": [
        "True\n",
        "False\n"
       ]
      }
     ],
     "prompt_number": 13
    },
    {
     "cell_type": "code",
     "collapsed": false,
     "input": [
      "# Create series from dicts\n",
      "sdata = {'Ohio':3500, 'Texas':71000,'Oregon':16000,'Utah':5000}\n",
      "obj3 = Series(sdata)\n",
      "print obj3 # note that the dict keys are sorted in the Series"
     ],
     "language": "python",
     "metadata": {},
     "outputs": [
      {
       "output_type": "stream",
       "stream": "stdout",
       "text": [
        "Ohio       3500\n",
        "Oregon    16000\n",
        "Texas     71000\n",
        "Utah       5000\n"
       ]
      }
     ],
     "prompt_number": 16
    },
    {
     "cell_type": "code",
     "collapsed": false,
     "input": [
      "states = ['California', 'Ohio', 'Oregon','Texas']\n",
      "obj4 = Series(sdata, index=states)\n",
      "print obj4"
     ],
     "language": "python",
     "metadata": {},
     "outputs": [
      {
       "output_type": "stream",
       "stream": "stdout",
       "text": [
        "California      NaN\n",
        "Ohio           3500\n",
        "Oregon        16000\n",
        "Texas         71000\n"
       ]
      }
     ],
     "prompt_number": 17
    },
    {
     "cell_type": "code",
     "collapsed": false,
     "input": [
      "print pd.isnull(obj4)\n",
      "print pd.notnull(obj4)"
     ],
     "language": "python",
     "metadata": {},
     "outputs": [
      {
       "output_type": "stream",
       "stream": "stdout",
       "text": [
        "California     True\n",
        "Ohio          False\n",
        "Oregon        False\n",
        "Texas         False\n",
        "California    False\n",
        "Ohio           True\n",
        "Oregon         True\n",
        "Texas          True\n"
       ]
      }
     ],
     "prompt_number": 18
    },
    {
     "cell_type": "code",
     "collapsed": false,
     "input": [
      "print obj3\n",
      "print\n",
      "print obj4\n",
      "print\n",
      "print obj3+obj4 # auto aligns differently indexed data"
     ],
     "language": "python",
     "metadata": {},
     "outputs": [
      {
       "output_type": "stream",
       "stream": "stdout",
       "text": [
        "Ohio       3500\n",
        "Oregon    16000\n",
        "Texas     71000\n",
        "Utah       5000\n",
        "\n",
        "California      NaN\n",
        "Ohio           3500\n",
        "Oregon        16000\n",
        "Texas         71000\n",
        "\n",
        "California       NaN\n",
        "Ohio            7000\n",
        "Oregon         32000\n",
        "Texas         142000\n",
        "Utah             NaN"
       ]
      },
      {
       "output_type": "stream",
       "stream": "stdout",
       "text": [
        "\n"
       ]
      }
     ],
     "prompt_number": 19
    },
    {
     "cell_type": "code",
     "collapsed": false,
     "input": [
      "obj4.name = 'population'\n",
      "obj4.index.name = 'state'\n",
      "print obj4"
     ],
     "language": "python",
     "metadata": {},
     "outputs": [
      {
       "output_type": "stream",
       "stream": "stdout",
       "text": [
        "state\n",
        "California      NaN\n",
        "Ohio           3500\n",
        "Oregon        16000\n",
        "Texas         71000\n",
        "Name: population\n"
       ]
      }
     ],
     "prompt_number": 24
    },
    {
     "cell_type": "code",
     "collapsed": false,
     "input": [
      "obj = obj4.copy()\n",
      "obj.index = ['Bob','Steve','Jeff','Ryan']\n",
      "print obj"
     ],
     "language": "python",
     "metadata": {},
     "outputs": [
      {
       "output_type": "stream",
       "stream": "stdout",
       "text": [
        "Bob        NaN\n",
        "Steve     3500\n",
        "Jeff     16000\n",
        "Ryan     71000\n",
        "Name: population\n"
       ]
      }
     ],
     "prompt_number": 27
    },
    {
     "cell_type": "heading",
     "level": 4,
     "metadata": {},
     "source": [
      "DataFrame"
     ]
    },
    {
     "cell_type": "code",
     "collapsed": false,
     "input": [],
     "language": "python",
     "metadata": {},
     "outputs": []
    }
   ],
   "metadata": {}
  }
 ]
}