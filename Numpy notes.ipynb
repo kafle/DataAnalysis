{
 "metadata": {
  "name": "Numpy notes"
 },
 "nbformat": 3,
 "nbformat_minor": 0,
 "worksheets": [
  {
   "cells": [
    {
     "cell_type": "heading",
     "level": 1,
     "metadata": {},
     "source": [
      "NUMPY"
     ]
    },
    {
     "cell_type": "heading",
     "level": 2,
     "metadata": {},
     "source": [
      "Arrays"
     ]
    },
    {
     "cell_type": "code",
     "collapsed": false,
     "input": [
      "import numpy as np"
     ],
     "language": "python",
     "metadata": {},
     "outputs": [],
     "prompt_number": 1
    },
    {
     "cell_type": "code",
     "collapsed": false,
     "input": [
      "data1 = [6,7.6,8,0,1]\n",
      "arr1 = np.array(data1)\n",
      "print arr1\n",
      "print arr1.dtype\n",
      "print arr1.shape # takes input (rows, cols)"
     ],
     "language": "python",
     "metadata": {},
     "outputs": [
      {
       "output_type": "stream",
       "stream": "stdout",
       "text": [
        "[ 6.   7.6  8.   0.   1. ]\n",
        "float64\n",
        "(5,)\n"
       ]
      }
     ],
     "prompt_number": 8
    },
    {
     "cell_type": "code",
     "collapsed": false,
     "input": [
      "data2 = [[1,2,4.0], [3.4,5,2]] # create matrix\n",
      "arr2 = np.array(data2)\n",
      "print arr2\n",
      "print arr2.shape"
     ],
     "language": "python",
     "metadata": {},
     "outputs": [
      {
       "output_type": "stream",
       "stream": "stdout",
       "text": [
        "[[ 1.   2.   4. ]\n",
        " [ 3.4  5.   2. ]]\n",
        "(2, 3)\n"
       ]
      }
     ],
     "prompt_number": 9
    },
    {
     "cell_type": "code",
     "collapsed": false,
     "input": [
      "print np.zeros(10)\n",
      "print np.ones((3,4))\n",
      "print np.empty((2,2))"
     ],
     "language": "python",
     "metadata": {},
     "outputs": [
      {
       "output_type": "stream",
       "stream": "stdout",
       "text": [
        "[ 0.  0.  0.  0.  0.  0.  0.  0.  0.  0.]\n",
        "[[ 1.  1.  1.  1.]\n",
        " [ 1.  1.  1.  1.]\n",
        " [ 1.  1.  1.  1.]]\n",
        "[[  1.69455979e-316   6.91307600e-310]\n",
        " [  8.26432697e-317   8.26432697e-317]]\n"
       ]
      }
     ],
     "prompt_number": 11
    },
    {
     "cell_type": "code",
     "collapsed": false,
     "input": [
      "print np.arange(6) # like range\n",
      "print np.identity(3)"
     ],
     "language": "python",
     "metadata": {},
     "outputs": [
      {
       "output_type": "stream",
       "stream": "stdout",
       "text": [
        "[0 1 2 3 4 5]\n",
        "[[ 1.  0.  0.]\n",
        " [ 0.  1.  0.]\n",
        " [ 0.  0.  1.]]\n"
       ]
      }
     ],
     "prompt_number": 15
    },
    {
     "cell_type": "code",
     "collapsed": false,
     "input": [
      "arr3 = np.array([1,2,3], dtype = np.int64) # or float64, uint32,bool, object, string_, complex64/128/256\n",
      "# or unicode_ etc \n",
      "print arr3.dtype"
     ],
     "language": "python",
     "metadata": {},
     "outputs": [
      {
       "output_type": "stream",
       "stream": "stdout",
       "text": [
        "int64\n"
       ]
      }
     ],
     "prompt_number": 19
    },
    {
     "cell_type": "code",
     "collapsed": false,
     "input": [
      "arr_int = np.array([1,2,3])\n",
      "arr_float = arr_int.astype(np.float64) # type casting.. can also use python types\n",
      "print arr_int.dtype, arr_float.dtype"
     ],
     "language": "python",
     "metadata": {},
     "outputs": [
      {
       "output_type": "stream",
       "stream": "stdout",
       "text": [
        "int64 float64\n"
       ]
      }
     ],
     "prompt_number": 21
    },
    {
     "cell_type": "code",
     "collapsed": false,
     "input": [
      "arr = np.array([[1,2,3],[4,5,6]])\n",
      "print arr*2\n",
      "print (arr*arr)\n",
      "print (arr-arr)\n",
      "print [1,2,3]*2 # note the difference betn py and np"
     ],
     "language": "python",
     "metadata": {},
     "outputs": [
      {
       "output_type": "stream",
       "stream": "stdout",
       "text": [
        "[[ 2  4  6]\n",
        " [ 8 10 12]]\n",
        "[[ 1  4  9]\n",
        " [16 25 36]]\n",
        "[[0 0 0]\n",
        " [0 0 0]]\n",
        "[1, 2, 3, 1, 2, 3]\n"
       ]
      }
     ],
     "prompt_number": 29
    },
    {
     "cell_type": "code",
     "collapsed": false,
     "input": [
      "print 1/arr.astype(float)\n",
      "print 1/arr\n",
      "print arr**0.5"
     ],
     "language": "python",
     "metadata": {},
     "outputs": [
      {
       "output_type": "stream",
       "stream": "stdout",
       "text": [
        "[[ 1.          0.5         0.33333333]\n",
        " [ 0.25        0.2         0.16666667]]\n",
        "[[1 0 0]\n",
        " [0 0 0]]\n",
        "[[ 1.          1.41421356  1.73205081]\n",
        " [ 2.          2.23606798  2.44948974]]\n"
       ]
      }
     ],
     "prompt_number": 32
    },
    {
     "cell_type": "heading",
     "level": 3,
     "metadata": {},
     "source": [
      "Indexes and Slicing"
     ]
    },
    {
     "cell_type": "code",
     "collapsed": false,
     "input": [
      "arr = np.arange(10)\n",
      "print arr\n",
      "print arr[6]\n",
      "print arr[5:8]\n",
      "arr[5:8] = 12 # unlike lists, all elements in slice are modified\n",
      "print arr "
     ],
     "language": "python",
     "metadata": {},
     "outputs": [
      {
       "output_type": "stream",
       "stream": "stdout",
       "text": [
        "[0 1 2 3 4 5 6 7 8 9]\n",
        "6\n",
        "[5 6 7]\n",
        "[ 0  1  2  3  4 12 12 12  8  9]\n"
       ]
      }
     ],
     "prompt_number": 38
    },
    {
     "cell_type": "code",
     "collapsed": false,
     "input": [
      "# NOTE: NP ARRAY FUNCTIONS CHANGE ORIGINAL, NOT COPIES!!! e.g.:\n",
      "arr = np.arange(10)\n",
      "print arr\n",
      "arr_slice = arr[5:8]\n",
      "arr_slice[1] = 12345\n",
      "print arr\n",
      "arr_slice[:] = 64\n",
      "print arr\n",
      "# to cpy use array[n:m].copy() method"
     ],
     "language": "python",
     "metadata": {},
     "outputs": [
      {
       "output_type": "stream",
       "stream": "stdout",
       "text": [
        "[0 1 2 3 4 5 6 7 8 9]\n",
        "[    0     1     2     3     4     5 12345     7     8     9]\n",
        "[ 0  1  2  3  4 64 64 64  8  9]\n"
       ]
      }
     ],
     "prompt_number": 39
    },
    {
     "cell_type": "code",
     "collapsed": false,
     "input": [
      "arr2d = np.array([[1,2,3],[4,5,6],[7,8,9]])\n",
      "print arr2d\n",
      "print arr2d[2] # each elem in arr2d is a 1D array\n",
      "print arr2d[2][0] # or access with two coords or equivalently,\n",
      "print arr2d[2,0]"
     ],
     "language": "python",
     "metadata": {},
     "outputs": [
      {
       "output_type": "stream",
       "stream": "stdout",
       "text": [
        "[[1 2 3]\n",
        " [4 5 6]\n",
        " [7 8 9]]\n",
        "[7 8 9]\n",
        "7\n",
        "7\n"
       ]
      }
     ],
     "prompt_number": 59
    },
    {
     "cell_type": "code",
     "collapsed": false,
     "input": [
      "arr3d = np.array([\n",
      "[[1,2,3],[4,5,6]],\n",
      "[[7,8,9],[10,11,12]]\n",
      "])\n",
      "print arr3d\n",
      "# Slicing n-dim arrays with (n-1) coords returns (n-1)-dim arrays etc..\n",
      "print arr3d[0]"
     ],
     "language": "python",
     "metadata": {},
     "outputs": [
      {
       "output_type": "stream",
       "stream": "stdout",
       "text": [
        "[[[ 1  2  3]\n",
        "  [ 4  5  6]]\n",
        "\n",
        " [[ 7  8  9]\n",
        "  [10 11 12]]]\n",
        "[[1 2 3]\n",
        " [4 5 6]]\n"
       ]
      }
     ],
     "prompt_number": 57
    },
    {
     "cell_type": "code",
     "collapsed": false,
     "input": [
      "old_values = arr3d[0].copy()\n",
      "arr3d[0] = 42\n",
      "print arr3d\n",
      "arr3d[0] = old_values\n",
      "print arr3dboth, "
     ],
     "language": "python",
     "metadata": {},
     "outputs": [
      {
       "output_type": "stream",
       "stream": "stdout",
       "text": [
        "[[[42 42 42]\n",
        "  [42 42 42]]\n",
        "\n",
        " [[ 7  8  9]\n",
        "  [10 11 12]]]\n",
        "[[[ 1  2  3]\n",
        "  [ 4  5  6]]\n",
        "\n",
        " [[ 7  8  9]\n",
        "  [10 11 12]]]\n"
       ]
      }
     ],
     "prompt_number": 58
    },
    {
     "cell_type": "code",
     "collapsed": false,
     "input": [
      "print arr2d\n",
      "print arr2d[:2]\n",
      "print arr2d[:2,1:]"
     ],
     "language": "python",
     "metadata": {},
     "outputs": [
      {
       "output_type": "stream",
       "stream": "stdout",
       "text": [
        "[[1 2 3]\n",
        " [4 5 6]\n",
        " [7 8 9]]\n",
        "[[1 2 3]\n",
        " [4 5 6]]\n",
        "[[2 3]\n",
        " [5 6]]\n"
       ]
      }
     ],
     "prompt_number": 63
    },
    {
     "cell_type": "code",
     "collapsed": false,
     "input": [
      "print arr2d[1, :2]\n",
      "print arr2d[2,:1]\n",
      "print arr2d[:,:1]"
     ],
     "language": "python",
     "metadata": {},
     "outputs": [
      {
       "output_type": "stream",
       "stream": "stdout",
       "text": [
        "[4 5]\n",
        "[7]\n",
        "[[1]\n",
        " [4]\n",
        " [7]]\n"
       ]
      }
     ],
     "prompt_number": 66
    },
    {
     "cell_type": "heading",
     "level": 3,
     "metadata": {},
     "source": [
      "Boolean Indexing"
     ]
    },
    {
     "cell_type": "code",
     "collapsed": false,
     "input": [
      "names = np.array(['A','B','C','D','A','B','C'])\n",
      "data = np.random.randn(7,4)\n",
      "print names\n",
      "print data\n",
      "print (names == 'B') # vectorized comparision\n",
      "print data[(names == 'B')] # indexing with boolean array\n",
      "print data[-(names == 'B'), :2] # - means not here! &,| are and, or"
     ],
     "language": "python",
     "metadata": {},
     "outputs": [
      {
       "output_type": "stream",
       "stream": "stdout",
       "text": [
        "['A' 'B' 'C' 'D' 'A' 'B' 'C']\n",
        "[[-2.90656154  0.25884653  0.79597693 -0.84825691]\n",
        " [ 0.3646387  -1.09912452  0.88748278 -0.22744009]\n",
        " [-0.82863526  0.31625858 -0.01071976 -0.07664902]\n",
        " [ 1.5271546  -2.41188294  0.25556549 -0.55219023]\n",
        " [-0.09582352  1.00793881  0.01785657  1.55393499]\n",
        " [-0.16291592 -0.10356195  0.12688661  0.8676961 ]\n",
        " [-0.0892453  -0.98718218 -0.19386161 -1.21690813]]\n",
        "[False  True False False False  True False]\n",
        "[[ 0.3646387  -1.09912452  0.88748278 -0.22744009]\n",
        " [-0.16291592 -0.10356195  0.12688661  0.8676961 ]]\n",
        "[[-2.90656154  0.25884653]\n",
        " [-0.82863526  0.31625858]\n",
        " [ 1.5271546  -2.41188294]\n",
        " [-0.09582352  1.00793881]\n",
        " [-0.0892453  -0.98718218]]\n"
       ]
      }
     ],
     "prompt_number": 74
    },
    {
     "cell_type": "code",
     "collapsed": false,
     "input": [
      "print data\n",
      "data[data<0] = 0\n",
      "print data\n",
      "data[names != 'C'] = 7\n",
      "print data"
     ],
     "language": "python",
     "metadata": {},
     "outputs": [
      {
       "output_type": "stream",
       "stream": "stdout",
       "text": [
        "[[ 7.          7.          7.          7.        ]\n",
        " [ 7.          7.          7.          7.        ]\n",
        " [ 0.          0.31625858  0.          0.        ]\n",
        " [ 7.          7.          7.          7.        ]\n",
        " [ 7.          7.          7.          7.        ]\n",
        " [ 7.          7.          7.          7.        ]\n",
        " [ 0.          0.          0.          0.        ]]\n",
        "[[ 7.          7.          7.          7.        ]\n",
        " [ 7.          7.          7.          7.        ]\n",
        " [ 0.          0.31625858  0.          0.        ]\n",
        " [ 7.          7.          7.          7.        ]\n",
        " [ 7.          7.          7.          7.        ]\n",
        " [ 7.          7.          7.          7.        ]\n",
        " [ 0.          0.          0.          0.        ]]\n",
        "[[ 7.          7.          7.          7.        ]\n",
        " [ 7.          7.          7.          7.        ]\n",
        " [ 0.          0.31625858  0.          0.        ]\n",
        " [ 7.          7.          7.          7.        ]\n",
        " [ 7.          7.          7.          7.        ]\n",
        " [ 7.          7.          7.          7.        ]\n",
        " [ 0.          0.          0.          0.        ]]\n"
       ]
      }
     ],
     "prompt_number": 78
    },
    {
     "cell_type": "heading",
     "level": 2,
     "metadata": {},
     "source": [
      "Skipped some pages!!!"
     ]
    },
    {
     "cell_type": "heading",
     "level": 3,
     "metadata": {},
     "source": [
      "Data processing with arrays"
     ]
    },
    {
     "cell_type": "code",
     "collapsed": false,
     "input": [
      "points = np.arange(-5,6,0.01) # 1000 pts\n",
      "xs, ys = np.meshgrid(points, points) # meshgrid turns 2 1d arrays into 2 2d paired matrices (x_i,y_i)\n",
      "print ys"
     ],
     "language": "python",
     "metadata": {},
     "outputs": [
      {
       "output_type": "stream",
       "stream": "stdout",
       "text": [
        "[[-5.   -5.   -5.   ..., -5.   -5.   -5.  ]\n",
        " [-4.99 -4.99 -4.99 ..., -4.99 -4.99 -4.99]\n",
        " [-4.98 -4.98 -4.98 ..., -4.98 -4.98 -4.98]\n",
        " ..., \n",
        " [ 5.97  5.97  5.97 ...,  5.97  5.97  5.97]\n",
        " [ 5.98  5.98  5.98 ...,  5.98  5.98  5.98]\n",
        " [ 5.99  5.99  5.99 ...,  5.99  5.99  5.99]]\n"
       ]
      }
     ],
     "prompt_number": 3
    },
    {
     "cell_type": "code",
     "collapsed": false,
     "input": [
      "%matplotlib inline"
     ],
     "language": "python",
     "metadata": {},
     "outputs": [
      {
       "output_type": "stream",
       "stream": "stderr",
       "text": [
        "ERROR: Line magic function `%matplotlib` not found."
       ]
      }
     ],
     "prompt_number": 1
    },
    {
     "cell_type": "code",
     "collapsed": false,
     "input": [
      "import matplotlib.pyplot as plt\n",
      "z = np.sqrt(xs**2 + ys**2)\n",
      "print z\n",
      "plt.imshow(z, cmap=plt.cm.gray); plt.colorbar()\n",
      "plt.title(\"Image plot of $\\sqrt{x^2+y^2}$ for a grid\")"
     ],
     "language": "python",
     "metadata": {},
     "outputs": [
      {
       "output_type": "stream",
       "stream": "stdout",
       "text": [
        "[[ 7.07106781  7.06400028  7.05693985 ...,  7.78722672  7.79489577\n",
        "   7.80257009]\n",
        " [ 7.06400028  7.05692568  7.04985815 ...,  7.78080973  7.78848509\n",
        "   7.79616572]\n",
        " [ 7.05693985  7.04985815  7.04278354 ...,  7.7744003   7.78208198\n",
        "   7.78976893]\n",
        " ..., \n",
        " [ 7.78722672  7.78080973  7.7744003  ...,  8.44285497  8.44992899\n",
        "   8.45700893]\n",
        " [ 7.79489577  7.78848509  7.78208198 ...,  8.44992899  8.4569971\n",
        "   8.46407112]\n",
        " [ 7.80257009  7.79616572  7.78976893 ...,  8.45700893  8.46407112\n",
        "   8.47113924]]\n"
       ]
      },
      {
       "output_type": "pyout",
       "prompt_number": 5,
       "text": [
        "<matplotlib.text.Text at 0x3e14e10>"
       ]
      },
      {
       "output_type": "display_data",
       "png": "[encoded data removed]"
      }
     ],
     "prompt_number": 5
    },
    {
     "cell_type": "heading",
     "level": 3,
     "metadata": {},
     "source": [
      "Math and Stats"
     ]
    },
    {
     "cell_type": "code",
     "collapsed": false,
     "input": [
      "arr = np.random.randn(5,4) # normally dist data\n",
      "print arr"
     ],
     "language": "python",
     "metadata": {},
     "outputs": [
      {
       "output_type": "stream",
       "stream": "stdout",
       "text": [
        "[[-0.29383367  0.7290042   0.51176047 -1.28391533]\n",
        " [ 0.33591392  0.93187653 -0.72237084  0.79667688]\n",
        " [-0.10948369  0.21287937 -0.74154734  1.0213299 ]\n",
        " [ 0.02611129  0.25759533  0.02789128  0.61827403]\n",
        " [ 1.04053271 -0.76469436  0.71516918  1.24104195]]\n"
       ]
      }
     ],
     "prompt_number": 6
    },
    {
     "cell_type": "code",
     "collapsed": false,
     "input": [
      "print arr.mean()\n",
      "print np.mean(arr)\n",
      "print arr.sum()\n",
      "print arr.mean(axis=1)\n",
      "print arr.sum(1)/4"
     ],
     "language": "python",
     "metadata": {},
     "outputs": [
      {
       "output_type": "stream",
       "stream": "stdout",
       "text": [
        "0.227510590454\n",
        "0.227510590454\n",
        "4.55021180908\n",
        "[-0.08424608  0.33552412  0.09579456  0.23246798  0.55801237]\n",
        "[-0.08424608  0.33552412  0.09579456  0.23246798  0.55801237]\n"
       ]
      }
     ],
     "prompt_number": 11
    },
    {
     "cell_type": "code",
     "collapsed": false,
     "input": [
      "print arr.var()\n",
      "print arr.std()\n",
      "print arr.min()\n",
      "print arr.argmin()"
     ],
     "language": "python",
     "metadata": {},
     "outputs": [
      {
       "output_type": "stream",
       "stream": "stdout",
       "text": [
        "0.472507714099\n",
        "0.687391965402\n",
        "-1.28391533253\n",
        "3\n"
       ]
      }
     ],
     "prompt_number": 12
    },
    {
     "cell_type": "code",
     "collapsed": false,
     "input": [
      "print arr\n",
      "arr.sort()\n",
      "print arr"
     ],
     "language": "python",
     "metadata": {},
     "outputs": [
      {
       "output_type": "stream",
       "stream": "stdout",
       "text": [
        "[[-0.29383367  0.7290042   0.51176047 -1.28391533]\n",
        " [ 0.33591392  0.93187653 -0.72237084  0.79667688]\n",
        " [-0.10948369  0.21287937 -0.74154734  1.0213299 ]\n",
        " [ 0.02611129  0.25759533  0.02789128  0.61827403]\n",
        " [ 1.04053271 -0.76469436  0.71516918  1.24104195]]\n",
        "[[-1.28391533 -0.29383367  0.51176047  0.7290042 ]\n",
        " [-0.72237084  0.33591392  0.79667688  0.93187653]\n",
        " [-0.74154734 -0.10948369  0.21287937  1.0213299 ]\n",
        " [ 0.02611129  0.02789128  0.25759533  0.61827403]\n",
        " [-0.76469436  0.71516918  1.04053271  1.24104195]]\n"
       ]
      }
     ],
     "prompt_number": 13
    },
    {
     "cell_type": "code",
     "collapsed": false,
     "input": [
      "arr2d = randn(5,3)\n",
      "print arr2d\n",
      "arr2d.sort(1)\n",
      "print arr2d"
     ],
     "language": "python",
     "metadata": {},
     "outputs": [
      {
       "output_type": "stream",
       "stream": "stdout",
       "text": [
        "[[-2.50485522 -0.54015791 -1.64877648]\n",
        " [-0.60715996 -1.44779154 -0.51637159]\n",
        " [-0.1066427  -1.25008781 -0.53514699]\n",
        " [-1.18094253  0.82456473  1.51078484]\n",
        " [ 0.08210007  0.74435259 -0.70442502]]\n",
        "[[-2.50485522 -1.64877648 -0.54015791]\n",
        " [-1.44779154 -0.60715996 -0.51637159]\n",
        " [-1.25008781 -0.53514699 -0.1066427 ]\n",
        " [-1.18094253  0.82456473  1.51078484]\n",
        " [-0.70442502  0.08210007  0.74435259]]\n"
       ]
      }
     ],
     "prompt_number": 15
    },
    {
     "cell_type": "code",
     "collapsed": false,
     "input": [
      "names = np.array(['a','b','c','a','b','d'])\n",
      "np.unique(names)"
     ],
     "language": "python",
     "metadata": {},
     "outputs": [
      {
       "output_type": "pyout",
       "prompt_number": 16,
       "text": [
        "array(['a', 'b', 'c', 'd'], \n",
        "      dtype='|S1')"
       ]
      }
     ],
     "prompt_number": 16
    },
    {
     "cell_type": "code",
     "collapsed": false,
     "input": [
      "values = np.array([6,0,0,3,4,5,6])\n",
      "np.in1d(values, [3,2,5])"
     ],
     "language": "python",
     "metadata": {},
     "outputs": [
      {
       "output_type": "pyout",
       "prompt_number": 17,
       "text": [
        "array([False, False, False,  True, False,  True, False], dtype=bool)"
       ]
      }
     ],
     "prompt_number": 17
    },
    {
     "cell_type": "heading",
     "level": 3,
     "metadata": {},
     "source": [
      "Array Storage in Binary"
     ]
    },
    {
     "cell_type": "code",
     "collapsed": false,
     "input": [
      "arr = np.arange(10)\n",
      "np.save('some_array',arr)"
     ],
     "language": "python",
     "metadata": {},
     "outputs": [],
     "prompt_number": 18
    },
    {
     "cell_type": "code",
     "collapsed": false,
     "input": [
      "np.load('some_array.npy')"
     ],
     "language": "python",
     "metadata": {},
     "outputs": [
      {
       "output_type": "pyout",
       "prompt_number": 19,
       "text": [
        "array([0, 1, 2, 3, 4, 5, 6, 7, 8, 9])"
       ]
      }
     ],
     "prompt_number": 19
    },
    {
     "cell_type": "code",
     "collapsed": false,
     "input": [
      "np.savez('array+archive.npz',a=arr,b=arr)"
     ],
     "language": "python",
     "metadata": {},
     "outputs": [],
     "prompt_number": 20
    },
    {
     "cell_type": "code",
     "collapsed": false,
     "input": [
      "arch=np.load('array+archive.npz')"
     ],
     "language": "python",
     "metadata": {},
     "outputs": [],
     "prompt_number": 21
    },
    {
     "cell_type": "code",
     "collapsed": false,
     "input": [
      "print arch['b']"
     ],
     "language": "python",
     "metadata": {},
     "outputs": [
      {
       "output_type": "stream",
       "stream": "stdout",
       "text": [
        "[0 1 2 3 4 5 6 7 8 9]\n"
       ]
      }
     ],
     "prompt_number": 22
    },
    {
     "cell_type": "heading",
     "level": 4,
     "metadata": {},
     "source": [
      "Example: Random Walk"
     ]
    },
    {
     "cell_type": "code",
     "collapsed": false,
     "input": [
      "#pure python\n",
      "import random\n",
      "position = 0\n",
      "walk = [position]\n",
      "steps = 10\n",
      "for i in xrange(steps):\n",
      "    step = 1 if random.randint(0,1) else -1\n",
      "    position += step\n",
      "    walk.append(position)\n",
      "print walk"
     ],
     "language": "python",
     "metadata": {},
     "outputs": [
      {
       "output_type": "stream",
       "stream": "stdout",
       "text": [
        "[0, -1, 0, -1, -2, -3, -4, -3, -4, -5, -6]\n"
       ]
      }
     ],
     "prompt_number": 24
    },
    {
     "cell_type": "code",
     "collapsed": false,
     "input": [
      "# np - 1 walk\n",
      "nsteps = 10\n",
      "draws = np.random.randint(0,2,size=nsteps)\n",
      "steps = np.where(draws>0,1,-1)\n",
      "walk=steps.cumsum()\n",
      "print walk"
     ],
     "language": "python",
     "metadata": {},
     "outputs": [
      {
       "output_type": "stream",
       "stream": "stdout",
       "text": [
        "[-1 -2 -3 -2 -3 -2 -1 -2 -1  0]\n"
       ]
      }
     ],
     "prompt_number": 25
    },
    {
     "cell_type": "code",
     "collapsed": false,
     "input": [
      "#np - 5 walks\n",
      "nwalks = 5\n",
      "nsteps = 10\n",
      "draws = np.random.randint(0,2,size=(nwalks,nsteps))\n",
      "steps = np.where(draws>0,1,-1)\n",
      "walks=steps.cumsum(1)\n",
      "print walks"
     ],
     "language": "python",
     "metadata": {},
     "outputs": [
      {
       "output_type": "stream",
       "stream": "stdout",
       "text": [
        "[[-1  0 -1  0 -1  0  1  2  1  0]\n",
        " [ 1  2  1  0  1  0 -1  0  1  0]\n",
        " [-1  0 -1  0 -1 -2 -3 -2 -1  0]\n",
        " [ 1  0 -1 -2 -1  0  1  2  1  0]\n",
        " [-1 -2 -1 -2 -1 -2 -3 -4 -5 -6]]\n"
       ]
      }
     ],
     "prompt_number": 26
    },
    {
     "cell_type": "code",
     "collapsed": false,
     "input": [],
     "language": "python",
     "metadata": {},
     "outputs": []
    }
   ],
   "metadata": {}
  }
 ]
}